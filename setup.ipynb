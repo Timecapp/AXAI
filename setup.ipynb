{
  "nbformat": 4,
  "nbformat_minor": 0,
  "metadata": {
    "colab": {
      "provenance": [],
      "authorship_tag": "ABX9TyO3Hg8JFYYvklRMP0aiEW4k",
      "include_colab_link": true
    },
    "kernelspec": {
      "name": "python3",
      "display_name": "Python 3"
    },
    "language_info": {
      "name": "python"
    }
  },
  "cells": [
    {
      "cell_type": "markdown",
      "metadata": {
        "id": "view-in-github",
        "colab_type": "text"
      },
      "source": [
        "<a href=\"https://colab.research.google.com/github/Timecapp/AXAI/blob/main/setup.ipynb\" target=\"_parent\"><img src=\"https://colab.research.google.com/assets/colab-badge.svg\" alt=\"Open In Colab\"/></a>"
      ]
    },
    {
      "cell_type": "code",
      "execution_count": null,
      "metadata": {
        "id": "-KHcMhfI5z-f"
      },
      "outputs": [],
      "source": [
        "from setuptools import setup\n",
        "\n",
        "setup(\n",
        "  name='All XAI',\n",
        "  version='1.0',\n",
        "  description='Comprehensive XAI, \"All XAI\" Package for combining LIME, SHAP, Gaussian Naive Bayes and Partial Dependence Plots with Morris Sensitivity Analysis',\n",
        "  url='https://github.com/Timecapp/AXAI',\n",
        "  author='Timecapp_DrShai',\n",
        "  packages=['AXAI'],\n",
        "  install_requires=['lime', 'shap', 'pdpbox', 'morris'],\n",
        "  zip_safe=False\n",
        ")"
      ]
    }
  ]
}